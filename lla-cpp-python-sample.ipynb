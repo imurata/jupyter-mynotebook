{
 "cells": [
  {
   "cell_type": "markdown",
   "id": "f63f307b-c5df-48e8-bf7e-e3370bc67ac5",
   "metadata": {},
   "source": [
    "### llama-cpp-pythonのインストール\n",
    "pipでインストールする。\n",
    "インストール方法は[本家](https://github.com/ggerganov/llama.cpp)より[LangChain](https://python.langchain.com/docs/integrations/llms/llamacpp)の記載の方が分かりやすいかも。ノードに合わせて環境変数を設定する。\n",
    "ここではGPUがないインストール方法で進める。"
   ]
  },
  {
   "cell_type": "code",
   "execution_count": null,
   "id": "18f4eccf-a42e-46ac-9bc9-73eea4318166",
   "metadata": {},
   "outputs": [],
   "source": [
    "pip install llama-cpp-python"
   ]
  },
  {
   "cell_type": "markdown",
   "execution_count": null,
   "id": "0eeb38cf-85fa-4529-bbda-7861b2457ba3",
   "metadata": {},
   "outputs": [],
   "source": [
    "### モデルをコンテナ内に取り込む\n",
    "ここではHugging Faceで配布されている、GGUF形式で小さそうだった[TheBloke/Mistral-7B-Instruct-v0.1-GGUF](https://huggingface.co/TheBloke/Mistral-7B-Instruct-v0.1-GGUF)にした。\n",
    "小さいと言っても3GあるのでDownloadが終わるまで気長に待つ。"
   ]
  },
  {
   "cell_type": "code",
   "execution_count": null,
   "id": "f374b631-bd51-41db-b2b9-fa4ad231b10a",
   "metadata": {},
   "outputs": [],
   "source": [
    "! wget -O model.gguf https://huggingface.co/TheBloke/Mistral-7B-Instruct-v0.1-GGUF/resolve/main/mistral-7b-instruct-v0.1.Q2_K.gguf?download=true"
   ]
  },
  {
   "cell_type": "markdown",
   "id": "1e44c42f-c6a9-4897-8e31-8bd0580fc82e",
   "metadata": {},
   "source": [
    "### コードの実行\n",
    "Llamaをimportする"
   ]
  },
  {
   "cell_type": "code",
   "execution_count": null,
   "id": "178b209b-3c65-409d-a3ba-82f37d54b7ad",
   "metadata": {},
   "outputs": [],
   "source": [
    "from llama_cpp import Llama"
   ]
  },
  {
   "cell_type": "markdown",
   "id": "d465d4fd-3acc-429d-96c2-4e6a8160b323",
   "metadata": {},
   "source": [
    "動かしてみる。引数の意味は以下の通り。\n",
    "- `model_path`：モデルのファイルのパス\n",
    "- `n_gpu_layers`：GPUにオフロードするレイヤ数。GPU使わないので0を指定。"
   ]
  },
  {
   "cell_type": "code",
   "execution_count": null,
   "id": "5c9c0dc0-468d-4e51-9d47-6d6023723e67",
   "metadata": {},
   "outputs": [],
   "source": [
    "llm = Llama(\n",
    "    model_path = \"/home/jovyan/model.gguf\",\n",
    "    n_gpu_layers = 0,\n",
    ")\n",
    "Question = \"Who are you?\"\n",
    "\n",
    "output = llm(Question)\n",
    "print(\"Answer:\" + output['choices'][0]['text'])"
   ]
  }
 ],
 "metadata": {
  "kernelspec": {
   "display_name": "Python 3 (ipykernel)",
   "language": "python",
   "name": "python3"
  },
  "language_info": {
   "codemirror_mode": {
    "name": "ipython",
    "version": 3
   },
   "file_extension": ".py",
   "mimetype": "text/x-python",
   "name": "python",
   "nbconvert_exporter": "python",
   "pygments_lexer": "ipython3",
   "version": "3.8.10"
  }
 },
 "nbformat": 4,
 "nbformat_minor": 5
}
